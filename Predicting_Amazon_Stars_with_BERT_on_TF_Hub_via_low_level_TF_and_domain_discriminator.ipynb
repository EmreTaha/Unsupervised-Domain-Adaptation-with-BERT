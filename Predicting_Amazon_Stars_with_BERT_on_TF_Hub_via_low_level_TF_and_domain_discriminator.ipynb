{
  "nbformat": 4,
  "nbformat_minor": 0,
  "metadata": {
    "colab": {
      "name": "Predicting Amazon Stars with BERT on TF Hub via low level TF and domain discriminator.ipynb",
      "provenance": [],
      "collapsed_sections": [],
      "toc_visible": true,
      "include_colab_link": true
    },
    "kernelspec": {
      "name": "python3",
      "display_name": "Python 3"
    },
    "accelerator": "GPU"
  },
  "cells": [
    {
      "cell_type": "markdown",
      "metadata": {
        "id": "view-in-github",
        "colab_type": "text"
      },
      "source": [
        "<a href=\"https://colab.research.google.com/github/kabraxis/Unsupervised-Domain-Adaptation-with-BERT/blob/master/Predicting_Amazon_Stars_with_BERT_on_TF_Hub_via_low_level_TF_and_domain_discriminator.ipynb\" target=\"_parent\"><img src=\"https://colab.research.google.com/assets/colab-badge.svg\" alt=\"Open In Colab\"/></a>"
      ]
    },
    {
      "cell_type": "code",
      "metadata": {
        "id": "j0a4mTk9o1Qg",
        "colab_type": "code",
        "colab": {}
      },
      "source": [
        "# Copyright 2019 Google Inc.\n",
        "\n",
        "# Licensed under the Apache License, Version 2.0 (the \"License\");\n",
        "# you may not use this file except in compliance with the License.\n",
        "# You may obtain a copy of the License at\n",
        "\n",
        "#     http://www.apache.org/licenses/LICENSE-2.0\n",
        "\n",
        "# Unless required by applicable law or agreed to in writing, software\n",
        "# distributed under the License is distributed on an \"AS IS\" BASIS,\n",
        "# WITHOUT WARRANTIES OR CONDITIONS OF ANY KIND, either express or implied.\n",
        "# See the License for the specific language governing permissions and\n",
        "# limitations under the License."
      ],
      "execution_count": 0,
      "outputs": []
    },
    {
      "cell_type": "markdown",
      "metadata": {
        "id": "dCpvgG0vwXAZ",
        "colab_type": "text"
      },
      "source": [
        "#Amazon Food Review Sentiment with BERT\n"
      ]
    },
    {
      "cell_type": "code",
      "metadata": {
        "id": "hsZvic2YxnTz",
        "colab_type": "code",
        "outputId": "cbd5d8fc-98e5-4389-870f-f5383cae96ca",
        "colab": {
          "base_uri": "https://localhost:8080/",
          "height": 92
        }
      },
      "source": [
        "from sklearn.model_selection import train_test_split\n",
        "import pandas as pd\n",
        "import tensorflow as tf\n",
        "import tensorflow_hub as hub\n",
        "from datetime import datetime\n",
        "from sklearn.model_selection import train_test_split\n",
        "from BERToptimizer import create_optimizer\n",
        "from random import shuffle\n",
        "from tensorflow.python.framework import ops"
      ],
      "execution_count": 0,
      "outputs": [
        {
          "output_type": "stream",
          "text": [
            "WARNING: Logging before flag parsing goes to stderr.\n",
            "W0730 11:37:11.052289 139921088538496 deprecation_wrapper.py:119] From /content/BERToptimizer.py:90: The name tf.train.Optimizer is deprecated. Please use tf.compat.v1.train.Optimizer instead.\n",
            "\n"
          ],
          "name": "stderr"
        }
      ]
    },
    {
      "cell_type": "markdown",
      "metadata": {
        "id": "cp5wfXDx5SPH",
        "colab_type": "text"
      },
      "source": [
        "In addition to the standard libraries we imported above, we'll need to install BERT's python package."
      ]
    },
    {
      "cell_type": "code",
      "metadata": {
        "id": "jviywGyWyKsA",
        "colab_type": "code",
        "outputId": "7fbb9160-7bbd-42be-9771-4882fffe2c68",
        "colab": {
          "base_uri": "https://localhost:8080/",
          "height": 146
        }
      },
      "source": [
        "!pip install bert-tensorflow"
      ],
      "execution_count": 0,
      "outputs": [
        {
          "output_type": "stream",
          "text": [
            "Collecting bert-tensorflow\n",
            "\u001b[?25l  Downloading https://files.pythonhosted.org/packages/a6/66/7eb4e8b6ea35b7cc54c322c816f976167a43019750279a8473d355800a93/bert_tensorflow-1.0.1-py2.py3-none-any.whl (67kB)\n",
            "\u001b[K     |████████████████████████████████| 71kB 2.3MB/s \n",
            "\u001b[?25hRequirement already satisfied: six in /usr/local/lib/python3.6/dist-packages (from bert-tensorflow) (1.12.0)\n",
            "Installing collected packages: bert-tensorflow\n",
            "Successfully installed bert-tensorflow-1.0.1\n"
          ],
          "name": "stdout"
        }
      ]
    },
    {
      "cell_type": "code",
      "metadata": {
        "id": "hhbGEfwgdEtw",
        "colab_type": "code",
        "colab": {}
      },
      "source": [
        "import bert\n",
        "from bert import run_classifier\n",
        "from bert import optimization\n",
        "from bert import tokenization"
      ],
      "execution_count": 0,
      "outputs": []
    },
    {
      "cell_type": "code",
      "metadata": {
        "id": "US_EAnICvP7f",
        "colab_type": "code",
        "outputId": "2fcd1b9c-38fb-4427-cd61-0efd17570ad1",
        "cellView": "both",
        "colab": {
          "base_uri": "https://localhost:8080/",
          "height": 35
        }
      },
      "source": [
        "# Set the output directory for saving model file\n",
        "# Optionally, set a GCP bucket location\n",
        "\n",
        "OUTPUT_DIR = 'bert_domain_adapt'#@param {type:\"string\"}\n",
        "#@markdown Whether or not to clear/delete the directory and create a new one\n",
        "DO_DELETE = True #@param {type:\"boolean\"}\n",
        "#@markdown Set USE_BUCKET and BUCKET if you want to (optionally) store model output on GCP bucket.\n",
        "USE_BUCKET = False #@param {type:\"boolean\"}\n",
        "BUCKET = '' #@param {type:\"string\"}\n",
        "\n",
        "if USE_BUCKET:\n",
        "  OUTPUT_DIR = 'gs://{}/{}'.format(BUCKET, OUTPUT_DIR)\n",
        "  from google.colab import auth\n",
        "  auth.authenticate_user()\n",
        "\n",
        "if DO_DELETE:\n",
        "  try:\n",
        "    tf.gfile.DeleteRecursively(OUTPUT_DIR)\n",
        "  except:\n",
        "    # Doesn't matter if the directory didn't exist\n",
        "    pass\n",
        "tf.gfile.MakeDirs(OUTPUT_DIR)\n",
        "print('***** Model output directory: {} *****'.format(OUTPUT_DIR))\n"
      ],
      "execution_count": 0,
      "outputs": [
        {
          "output_type": "stream",
          "text": [
            "***** Model output directory: bert_domain_adapt *****\n"
          ],
          "name": "stdout"
        }
      ]
    },
    {
      "cell_type": "markdown",
      "metadata": {
        "id": "pmFYvkylMwXn",
        "colab_type": "text"
      },
      "source": [
        "#Data"
      ]
    },
    {
      "cell_type": "code",
      "metadata": {
        "id": "IOy4-l_a42V5",
        "colab_type": "code",
        "outputId": "fee75602-9c5a-44db-c3b0-3b49051cc80f",
        "colab": {
          "base_uri": "https://localhost:8080/",
          "height": 53
        }
      },
      "source": [
        "from sklearn.model_selection import train_test_split\n",
        "import pandas as pd\n",
        "import tensorflow as tf\n",
        "import tensorflow_hub as hub\n",
        "from datetime import datetime\n",
        "import os\n",
        "import re\n",
        "import pandas as pd \n",
        "import gzip \n",
        "import numpy as np\n",
        "\n",
        "def split_d(dataset):\n",
        "    dataset.columns = ['reviewerID', 'asin', 'reviewerName', 'helpful', 'sentence',\n",
        "           'sentiment', 'summary', 'unixReviewTime', 'reviewTime']\n",
        "    dataset[\"sentiment\"] = dataset[\"sentiment\"].astype(np.int64)-1 \n",
        "    def convert_to_three(value):\n",
        "      if value == 0 or value == 1:\n",
        "        return 0\n",
        "      elif value == 2:\n",
        "        return 1\n",
        "      elif value == 3 or value == 4:\n",
        "        return 2\n",
        "    dataset[\"sentiment\"] = dataset[\"sentiment\"].map(convert_to_three)\n",
        "    dataset = dataset.sample(frac=1).reset_index(drop=True)\n",
        "\n",
        "    dp_train,dp_test = train_test_split(dataset,test_size=0.2)\n",
        "    return dp_train,dp_test \n",
        "\n",
        "# Open the gz file and read each entry as dictionary\n",
        "def parse(path):\n",
        "    g = gzip.open(path, 'rb')\n",
        "    for l in g:\n",
        "         yield eval(l) \n",
        "\n",
        "# Add the data entries to a pandas frame\n",
        "def getDF(path):\n",
        "    i = 0 \n",
        "    df = {}\n",
        "    for d in parse(path):\n",
        "         df[i] = d \n",
        "         i += 1\n",
        "    return pd.DataFrame.from_dict(df, orient='index')\n",
        "\n",
        "# Download the data and return its local path\n",
        "def download_and_load_datasets(origin=\"http://snap.stanford.edu/data/amazon/productGraph/categoryFiles/reviews_Home_and_Kitchen_5.json.gz\"):\n",
        "  ff = origin.split(\"/\")[-1]\n",
        "  dataset = tf.keras.utils.get_file(\n",
        "      fname=ff,\n",
        "      origin=origin, \n",
        "      extract=False)\n",
        "\n",
        "  return dataset\n",
        "\n",
        "dp_train,dp_test = split_d(getDF(download_and_load_datasets()))"
      ],
      "execution_count": 0,
      "outputs": [
        {
          "output_type": "stream",
          "text": [
            "Downloading data from http://snap.stanford.edu/data/amazon/productGraph/categoryFiles/reviews_Home_and_Kitchen_5.json.gz\n",
            "138133504/138126598 [==============================] - 25s 0us/step\n"
          ],
          "name": "stdout"
        }
      ]
    },
    {
      "cell_type": "markdown",
      "metadata": {
        "id": "XA8WHJgzhIZf",
        "colab_type": "text"
      },
      "source": [
        "To keep training fast, we'll take a sample of 5000 train and test examples, respectively."
      ]
    },
    {
      "cell_type": "code",
      "metadata": {
        "id": "Em5PhRwnCxwN",
        "colab_type": "code",
        "colab": {}
      },
      "source": [
        "#Source Dataset\n",
        "#TODO: add validation split\n",
        "dp_train = dp_train.sample(60000)\n",
        "dp_test = dp_test.sample(7500)"
      ],
      "execution_count": 0,
      "outputs": []
    },
    {
      "cell_type": "code",
      "metadata": {
        "id": "OkQmLY5drSfM",
        "colab_type": "code",
        "colab": {}
      },
      "source": [
        "#Make number of samples per class equal\n",
        "dp_train = dp_train.groupby('sentiment')\n",
        "dp_train = dp_train.apply(lambda x: x.sample(dp_train.size().min()).reset_index(drop=True))\n",
        "dp_train = dp_train.sample(frac=1).reset_index(drop=True) #shuffle again"
      ],
      "execution_count": 0,
      "outputs": []
    },
    {
      "cell_type": "code",
      "metadata": {
        "id": "AAGwh-iAY2QL",
        "colab_type": "code",
        "outputId": "fbc896d0-caf7-4f11-9a02-cb5beab72948",
        "colab": {
          "base_uri": "https://localhost:8080/",
          "height": 73
        }
      },
      "source": [
        "#Target dataset\n",
        "#TODO: add validation and test split\n",
        "domain_adapt_train,domain_adapt_test = split_d(getDF(download_and_load_datasets(\"http://snap.stanford.edu/data/amazon/productGraph/categoryFiles/reviews_Grocery_and_Gourmet_Food_5.json.gz\")))\n",
        "domain_adapt_train = domain_adapt_train.sample(dp_train.shape[0])\n",
        "domain_adapt_test  = domain_adapt_test.sample(7500)"
      ],
      "execution_count": 0,
      "outputs": [
        {
          "output_type": "stream",
          "text": [
            "Downloading data from http://snap.stanford.edu/data/amazon/productGraph/categoryFiles/reviews_Grocery_and_Gourmet_Food_5.json.gz\n",
            "36765696/36760767 [==============================] - 10s 0us/step\n"
          ],
          "name": "stdout"
        }
      ]
    },
    {
      "cell_type": "markdown",
      "metadata": {
        "id": "sfRnHSz3iSXz",
        "colab_type": "text"
      },
      "source": [
        "For us, our input data is the 'sentence' column and our label is the 'polarity' column (0, 1 for negative and positive, respecitvely)"
      ]
    },
    {
      "cell_type": "code",
      "metadata": {
        "id": "IuMOGwFui4it",
        "colab_type": "code",
        "colab": {}
      },
      "source": [
        "DATA_COLUMN = 'sentence'\n",
        "LABEL_COLUMN = 'sentiment'\n",
        "# label_list is the list of labels, i.e. True, False or 0, 1 or 'dog', 'cat'\n",
        "label_list = [0, 1, 2]"
      ],
      "execution_count": 0,
      "outputs": []
    },
    {
      "cell_type": "markdown",
      "metadata": {
        "id": "V399W0rqNJ-Z",
        "colab_type": "text"
      },
      "source": [
        "#Data Preprocessing\n"
      ]
    },
    {
      "cell_type": "code",
      "metadata": {
        "id": "p9gEt5SmM6i6",
        "colab_type": "code",
        "colab": {}
      },
      "source": [
        "# Use the InputExample class from BERT's run_classifier code to create examples from the data\n",
        "train_InputExamples = dp_train.apply(lambda x: bert.run_classifier.InputExample(guid=None, # Globally unique ID for bookkeeping, unused in this example\n",
        "                                                                   text_a = x[DATA_COLUMN], \n",
        "                                                                   text_b = None, \n",
        "                                                                   label = x[LABEL_COLUMN]), axis = 1)\n",
        "\n",
        "test_InputExamples = dp_test.apply(lambda x: bert.run_classifier.InputExample(guid=None, \n",
        "                                                                   text_a = x[DATA_COLUMN], \n",
        "                                                                   text_b = None, \n",
        "                                                                   label = x[LABEL_COLUMN]), axis = 1)\n",
        "domaintest_InputExample = domain_adapt_test.apply(lambda x: bert.run_classifier.InputExample(guid=None, \n",
        "                                                                   text_a = x[DATA_COLUMN], \n",
        "                                                                   text_b = None, \n",
        "                                                                   label = x[LABEL_COLUMN]), axis = 1)\n",
        "domaintrain_InputExample = domain_adapt_train.apply(lambda x: bert.run_classifier.InputExample(guid=None, \n",
        "                                                                   text_a = x[DATA_COLUMN], \n",
        "                                                                   text_b = None, \n",
        "                                                                   label = x[LABEL_COLUMN]), axis = 1)"
      ],
      "execution_count": 0,
      "outputs": []
    },
    {
      "cell_type": "code",
      "metadata": {
        "id": "IhJSe0QHNG7U",
        "colab_type": "code",
        "outputId": "8b33f5d3-ab5e-401a-ac37-d05ca8e12ba4",
        "colab": {
          "base_uri": "https://localhost:8080/",
          "height": 73
        }
      },
      "source": [
        "# This is a path to an uncased (all lowercase) version of BERT\n",
        "BERT_MODEL_HUB = \"https://tfhub.dev/google/bert_uncased_L-12_H-768_A-12/1\"\n",
        "\n",
        "def create_tokenizer_from_hub_module():\n",
        "  \"\"\"Get the vocab file and casing info from the Hub module.\"\"\"\n",
        "  with tf.Graph().as_default():\n",
        "    bert_module = hub.Module(BERT_MODEL_HUB)\n",
        "    tokenization_info = bert_module(signature=\"tokenization_info\", as_dict=True)\n",
        "    with tf.Session() as sess:\n",
        "      vocab_file, do_lower_case = sess.run([tokenization_info[\"vocab_file\"],\n",
        "                                            tokenization_info[\"do_lower_case\"]])\n",
        "      \n",
        "  return bert.tokenization.FullTokenizer(\n",
        "      vocab_file=vocab_file, do_lower_case=do_lower_case)\n",
        "\n",
        "tokenizer = create_tokenizer_from_hub_module()"
      ],
      "execution_count": 0,
      "outputs": [
        {
          "output_type": "stream",
          "text": [
            "W0730 11:38:59.575024 139921088538496 deprecation_wrapper.py:119] From /usr/local/lib/python3.6/dist-packages/bert/tokenization.py:125: The name tf.gfile.GFile is deprecated. Please use tf.io.gfile.GFile instead.\n",
            "\n"
          ],
          "name": "stderr"
        }
      ]
    },
    {
      "cell_type": "code",
      "metadata": {
        "id": "LL5W8gEGRTAf",
        "colab_type": "code",
        "outputId": "5d9c1f8b-bc3d-4fc4-8fb9-0edd9ae7d94d",
        "colab": {
          "base_uri": "https://localhost:8080/",
          "height": 73
        }
      },
      "source": [
        "#TODO: Apply these on other splits as well\n",
        "# We'll set sequences to be at most 128 tokens long.\n",
        "MAX_SEQ_LENGTH = 100 #128\n",
        "# Convert our train and test features to InputFeatures that BERT understands.\n",
        "train_features = bert.run_classifier.convert_examples_to_features(train_InputExamples, label_list, MAX_SEQ_LENGTH, tokenizer)\n",
        "test_features = bert.run_classifier.convert_examples_to_features(test_InputExamples, label_list, MAX_SEQ_LENGTH, tokenizer)\n",
        "domain_test_features = bert.run_classifier.convert_examples_to_features(domaintest_InputExample, label_list, MAX_SEQ_LENGTH, tokenizer)\n",
        "domain_train_features = bert.run_classifier.convert_examples_to_features(domaintrain_InputExample, label_list, MAX_SEQ_LENGTH, tokenizer)"
      ],
      "execution_count": 0,
      "outputs": [
        {
          "output_type": "stream",
          "text": [
            "W0730 11:38:59.724204 139921088538496 deprecation_wrapper.py:119] From /usr/local/lib/python3.6/dist-packages/bert/run_classifier.py:774: The name tf.logging.info is deprecated. Please use tf.compat.v1.logging.info instead.\n",
            "\n"
          ],
          "name": "stderr"
        }
      ]
    },
    {
      "cell_type": "code",
      "metadata": {
        "id": "-qvQy3b-s-yh",
        "colab_type": "code",
        "colab": {}
      },
      "source": [
        "#TODO: make this not on all data, but on a single batch\n",
        "#TODO: apply this on the other data as well, make it more neat.\n",
        "\n",
        "all_tra_input_ids = []\n",
        "all_tra_input_mask = []\n",
        "all_tra_segment_ids = []\n",
        "all_tra_label_ids = []\n",
        "\n",
        "for feature in train_features:\n",
        "    all_tra_input_ids.append(feature.input_ids)\n",
        "    all_tra_input_mask.append(feature.input_mask)\n",
        "    all_tra_segment_ids.append(feature.segment_ids)\n",
        "    all_tra_label_ids.append(feature.label_id)\n",
        "\n",
        "all_test_input_ids = []\n",
        "all_test_input_mask = []\n",
        "all_test_segment_ids = []\n",
        "all_test_label_ids = []\n",
        "\n",
        "for feature in test_features:\n",
        "    all_test_input_ids.append(feature.input_ids)\n",
        "    all_test_input_mask.append(feature.input_mask)\n",
        "    all_test_segment_ids.append(feature.segment_ids)\n",
        "    all_test_label_ids.append(feature.label_id)\n",
        "\n",
        "all_domaintest_input_ids = []\n",
        "all_domaintest_input_mask = []\n",
        "all_domaintest_segment_ids = []\n",
        "all_domaintest_label_ids = []\n",
        "\n",
        "for feature in domain_test_features:\n",
        "    all_domaintest_input_ids.append(feature.input_ids)\n",
        "    all_domaintest_input_mask.append(feature.input_mask)\n",
        "    all_domaintest_segment_ids.append(feature.segment_ids)\n",
        "    all_domaintest_label_ids.append(feature.label_id)\n",
        "    \n",
        "all_domaintrain_input_ids = []\n",
        "all_domaintrain_input_mask = []\n",
        "all_domaintrain_segment_ids = []\n",
        "all_domaintrain_label_ids = []\n",
        "\n",
        "for feature in domain_train_features:\n",
        "    all_domaintrain_input_ids.append(feature.input_ids)\n",
        "    all_domaintrain_input_mask.append(feature.input_mask)\n",
        "    all_domaintrain_segment_ids.append(feature.segment_ids)\n",
        "    all_domaintrain_label_ids.append(feature.label_id)\n",
        "    \n",
        "   "
      ],
      "execution_count": 0,
      "outputs": []
    },
    {
      "cell_type": "markdown",
      "metadata": {
        "id": "ccp5trMwRtmr",
        "colab_type": "text"
      },
      "source": [
        "#Creating a model\n",
        "\n",
        "Now that we've prepared our data, let's focus on building a model. `create_model` does just this below. First, it loads the BERT tf hub module again (this time to extract the computation graph). Next, it creates a single new layer that will be trained to adapt BERT to our sentiment task (i.e. classifying whether a movie review is positive or negative). This strategy of using a mostly trained model is called [fine-tuning](http://wiki.fast.ai/index.php/Fine_tuning)."
      ]
    },
    {
      "cell_type": "code",
      "metadata": {
        "id": "lPJMIDo--BwE",
        "colab_type": "code",
        "colab": {}
      },
      "source": [
        "# Compute train and warmup steps from batch size\n",
        "BATCH_SIZE = 24\n",
        "LEARNING_RATE = 2e-6\n",
        "NUM_TRAIN_EPOCHS = 15\n",
        "N_SAMPLE = len(all_tra_input_ids)\n",
        "SHUFFLE = True\n",
        "# Warmup is a period of time where hte learning rate \n",
        "# is small and gradually increases--usually helps training.\n",
        "WARMUP_PROPORTION = 0.1\n",
        "# Model configs\n",
        "SAVE_CHECKPOINTS_STEPS = 500\n",
        "SAVE_SUMMARY_STEPS = 100\n",
        "\n",
        "adversarial_lambda = 0.6\n",
        "\n",
        "num_train_steps = int(len(train_features) / BATCH_SIZE * NUM_TRAIN_EPOCHS)\n",
        "n_batch = int((N_SAMPLE-1) / BATCH_SIZE)\n",
        "n_test = int((len(all_test_input_ids)-1) / BATCH_SIZE)\n",
        "n_domain = int((len(all_domaintest_input_ids)-1) / BATCH_SIZE)\n",
        "num_warmup_steps = 0# int(num_train_steps * WARMUP_PROPORTION)\n",
        "num_labels = len(label_list)"
      ],
      "execution_count": 0,
      "outputs": []
    },
    {
      "cell_type": "code",
      "metadata": {
        "id": "JONYe_3acnx5",
        "colab_type": "code",
        "outputId": "11afc001-ea99-42c5-dfa7-fe166103abec",
        "colab": {
          "base_uri": "https://localhost:8080/",
          "height": 162
        }
      },
      "source": [
        "with tf.name_scope('input'):\n",
        "  input_ids = tf.placeholder(tf.int32,shape=(None, MAX_SEQ_LENGTH))\n",
        "  input_mask = tf.placeholder(tf.int32,shape=(None, MAX_SEQ_LENGTH))\n",
        "  segment_ids = tf.placeholder(tf.int32,shape=(None, MAX_SEQ_LENGTH))\n",
        "  labels_true = tf.placeholder(tf.int32,shape=(None,))\n",
        "  train_flag = tf.placeholder(dtype=tf.bool)\n",
        "  label_one_hot = tf.one_hot(labels_true, num_labels, dtype=tf.float32)\n",
        "    \n",
        "bert_module = hub.Module(\n",
        "      BERT_MODEL_HUB,\n",
        "      trainable=True)\n",
        "bert_inputs = dict(\n",
        "      input_ids=input_ids,\n",
        "      input_mask=input_mask,\n",
        "      segment_ids=segment_ids)\n",
        "bert_outputs = bert_module(\n",
        "      inputs=bert_inputs,\n",
        "      signature=\"tokens\",\n",
        "      as_dict=True)\n",
        "\n",
        "output_layer = bert_outputs[\"pooled_output\"]\n",
        "\n",
        "hidden_size = output_layer.shape[-1].value\n",
        "\n",
        "#variables_to_restore_BERT = [var for var in bert_module.variables if not \"/cls/\" in var.name]\n",
        "variables_to_restore_BERT = bert_module.variables\n",
        "loader =  tf.contrib.framework.assign_from_checkpoint_fn(\n",
        "    \"./uncased_L-12_H-768_A-12/bert_model.ckpt\",\n",
        "    variables_to_restore_BERT\n",
        ")\n"
      ],
      "execution_count": 0,
      "outputs": [
        {
          "output_type": "stream",
          "text": [
            "W0730 11:40:42.648287 139921088538496 lazy_loader.py:50] \n",
            "The TensorFlow contrib module will not be included in TensorFlow 2.0.\n",
            "For more information, please see:\n",
            "  * https://github.com/tensorflow/community/blob/master/rfcs/20180907-contrib-sunset.md\n",
            "  * https://github.com/tensorflow/addons\n",
            "  * https://github.com/tensorflow/io (for I/O related ops)\n",
            "If you depend on functionality not listed there, please file an issue.\n",
            "\n"
          ],
          "name": "stderr"
        }
      ]
    },
    {
      "cell_type": "code",
      "metadata": {
        "id": "ullFPoRvsvmy",
        "colab_type": "code",
        "outputId": "63dc93da-9367-40b8-ac77-134689d16e4a",
        "colab": {
          "base_uri": "https://localhost:8080/",
          "height": 201
        }
      },
      "source": [
        "with tf.name_scope('slice_features'):\n",
        "    bert_outputs_source = tf.cond(train_flag, lambda: tf.slice(output_layer, [0, 0], [int(BATCH_SIZE), -1]), lambda: output_layer) #Use in class task\n",
        "    \n",
        "with tf.variable_scope('domain_discriminator'):\n",
        "    #TODO: Check gradient reversal\n",
        "    disc_l1 = tf.layers.dense(inputs=output_layer, units=100, activation=tf.nn.relu) #TODO: reduce number of units\n",
        "    #disc_l1 = tf.layers.dropout(inputs=disc_l1, rate=0.4, training=train_flag)\n",
        "    \n",
        "    disc_outs = tf.layers.dense(inputs=disc_l1, units=1)\n",
        "\n",
        "with tf.name_scope('slice_discriminator'):   \n",
        "    disc_outs_source = tf.cond(train_flag, lambda: tf.slice(disc_outs, [0, 0], [int(BATCH_SIZE), -1]), lambda: disc_outs) #Use in discriminator task\n",
        "    disc_outs_target = tf.cond(train_flag, lambda: tf.slice(disc_outs, [int(BATCH_SIZE), 0], [int(BATCH_SIZE), -1]), lambda: disc_outs)\n",
        "    \n",
        "    \n",
        "with tf.variable_scope(\"sent_class\"):\n",
        "    # Create our own layer to tune for sentiment analysis.\n",
        "    output_weights = tf.get_variable(\n",
        "          \"output_weights\", [num_labels, hidden_size],\n",
        "          initializer=tf.truncated_normal_initializer(stddev=0.02))\n",
        "\n",
        "    output_bias = tf.get_variable(\n",
        "          \"output_bias\", [num_labels], initializer=tf.zeros_initializer())\n",
        "\n",
        "    logits = tf.matmul(bert_outputs_source, output_weights, transpose_b=True)\n",
        "    logits = tf.nn.bias_add(logits, output_bias)\n",
        "    log_probs = tf.nn.log_softmax(logits, axis=-1)\n",
        "\n",
        "    predicted_labels = tf.squeeze(tf.argmax(log_probs, axis=-1, output_type=tf.int32))\n",
        "    \n",
        "with tf.variable_scope(\"loss\"):\n",
        "    # If we're train/eval, compute loss between predicted and actual label\n",
        "    per_example_loss = -tf.reduce_sum(label_one_hot * log_probs, axis=-1)\n",
        "    class_loss = tf.reduce_mean(per_example_loss)\n",
        "        \n",
        "    disc_loss = tf.reduce_mean(tf.nn.sigmoid_cross_entropy_with_logits(logits=disc_outs_source,labels=tf.ones_like(disc_outs_source))\n",
        "                               + tf.nn.sigmoid_cross_entropy_with_logits(logits=disc_outs_target,labels=tf.zeros_like(disc_outs_target)))\n",
        "    \n",
        "    #Adverserial loss is just the inverse of it\n",
        "    adverserial_loss = tf.reduce_mean(tf.nn.sigmoid_cross_entropy_with_logits(logits=disc_outs_source,labels=tf.zeros_like(disc_outs_source))\n",
        "                               + tf.nn.sigmoid_cross_entropy_with_logits(logits=disc_outs_target,labels=tf.ones_like(disc_outs_target))) \n",
        "\n",
        "    total_loss = class_loss + adversarial_lambda * adverserial_loss"
      ],
      "execution_count": 0,
      "outputs": [
        {
          "output_type": "stream",
          "text": [
            "W0730 11:40:43.027811 139921088538496 deprecation.py:323] From <ipython-input-18-93a01b22e5fa>:8: dense (from tensorflow.python.layers.core) is deprecated and will be removed in a future version.\n",
            "Instructions for updating:\n",
            "Use keras.layers.dense instead.\n",
            "W0730 11:40:43.043049 139921088538496 deprecation.py:506] From /usr/local/lib/python3.6/dist-packages/tensorflow/python/ops/init_ops.py:1251: calling VarianceScaling.__init__ (from tensorflow.python.ops.init_ops) with dtype is deprecated and will be removed in a future version.\n",
            "Instructions for updating:\n",
            "Call initializer instance with the dtype argument instead of passing it to the constructor\n",
            "W0730 11:40:43.861220 139921088538496 deprecation.py:323] From /usr/local/lib/python3.6/dist-packages/tensorflow/python/ops/nn_impl.py:180: add_dispatch_support.<locals>.wrapper (from tensorflow.python.ops.array_ops) is deprecated and will be removed in a future version.\n",
            "Instructions for updating:\n",
            "Use tf.where in 2.0, which has the same broadcast rule as np.where\n"
          ],
          "name": "stderr"
        }
      ]
    },
    {
      "cell_type": "code",
      "metadata": {
        "id": "GaaOq5AfqX6f",
        "colab_type": "code",
        "outputId": "56717653-7d88-4d01-9092-7c6df6be42ce",
        "colab": {
          "base_uri": "https://localhost:8080/",
          "height": 1000
        }
      },
      "source": [
        "bert_vars = [var for var in tf.trainable_variables() if (not \"/cls/\" in var.name) and (\"bert\" in var.name)]\n",
        "class_vars = [var for var in tf.trainable_variables() if \"sent_class\" in var.name]\n",
        "class_train_op = create_optimizer(total_loss, LEARNING_RATE, num_train_steps, num_warmup_steps, bert_vars+class_vars, use_tpu=False)\n",
        "\n",
        "disc_vars = [var for var in tf.trainable_variables() if 'domain_discriminator' in var.name]\n",
        "disc_train_op =  tf.train.AdamOptimizer(learning_rate=LEARNING_RATE,epsilon=1e-6).minimize(disc_loss,var_list=disc_vars)\n",
        "\n",
        "equality = tf.equal(predicted_labels, labels_true)\n",
        "accuracy = tf.reduce_mean(tf.cast(equality, tf.float32))\n",
        "\n",
        "target_acc = []\n",
        "source_acc = []\n",
        "\n",
        "target_loss = []\n",
        "source_loss = []\n",
        "\n",
        "train_class_loss = []\n",
        "train_adv_loss = []\n",
        "\n",
        "with tf.Session() as sess:\n",
        "  sess.run([tf.global_variables_initializer(), tf.local_variables_initializer()])\n",
        "\n",
        "  for j in range(NUM_TRAIN_EPOCHS):\n",
        "    if SHUFFLE:\n",
        "        indices = np.arange(N_SAMPLE)\n",
        "        np.random.shuffle(indices)\n",
        "        all_tra_input_ids = np.array(all_tra_input_ids)[indices.astype(int)]\n",
        "        all_tra_input_mask = np.array(all_tra_input_mask)[indices.astype(int)]\n",
        "        all_tra_segment_ids = np.array(all_tra_segment_ids)[indices.astype(int)]\n",
        "        all_tra_label_ids = np.array(all_tra_label_ids)[indices.astype(int)]\n",
        "\n",
        "        all_domaintrain_input_ids = np.array(all_domaintrain_input_ids)[indices.astype(int)]\n",
        "        all_domaintrain_input_mask = np.array(all_domaintrain_input_mask)[indices.astype(int)]\n",
        "        all_domaintrain_segment_ids = np.array(all_domaintrain_segment_ids)[indices.astype(int)]\n",
        "        \n",
        "    for i in range(n_batch):\n",
        "          start = i * BATCH_SIZE\n",
        "          end = min(N_SAMPLE, start + BATCH_SIZE)\n",
        "          lss,dlss,acc, _ = sess.run([class_loss,disc_loss,accuracy,class_train_op], feed_dict={input_ids: np.vstack((all_tra_input_ids[start:end], all_domaintrain_input_ids[start:end])),\n",
        "                                          input_mask: np.vstack((all_tra_input_mask[start:end], all_domaintrain_input_mask[start:end])),\n",
        "                                          segment_ids: np.vstack((all_tra_segment_ids[start:end],all_domaintrain_segment_ids[start:end])),\n",
        "                                          labels_true: all_tra_label_ids[start:end],\n",
        "                                          train_flag: True})\n",
        "          train_class_loss.append(lss)\n",
        "          train_adv_loss.append(dlss)\n",
        "          \n",
        "          if adversarial_lambda > 0.0:\n",
        "            for _ in range(5):\n",
        "                sess.run([disc_train_op], feed_dict={input_ids: np.vstack((all_tra_input_ids[start:end], all_domaintrain_input_ids[start:end])),\n",
        "                                            input_mask: np.vstack((all_tra_input_mask[start:end], all_domaintrain_input_mask[start:end])),\n",
        "                                            segment_ids: np.vstack((all_tra_segment_ids[start:end],all_domaintrain_segment_ids[start:end])),\n",
        "                                            train_flag: True})\n",
        "              \n",
        "          if (int(len(train_features) / BATCH_SIZE)*j+i+1)%150==0:\n",
        "              test_accs = []\n",
        "              test_loss = []\n",
        "              for k in range(n_test):\n",
        "                  start = k * BATCH_SIZE\n",
        "                  end = min(len(all_test_input_ids), start + BATCH_SIZE)\n",
        "                  test_lss,test_acc = sess.run([class_loss,accuracy], feed_dict={input_ids: all_test_input_ids[start:end], \n",
        "                                                  input_mask: all_test_input_mask[start:end],\n",
        "                                                  segment_ids: all_test_segment_ids[start:end],\n",
        "                                                  labels_true: all_test_label_ids[start:end],\n",
        "                                                  train_flag: False})\n",
        "                  test_accs.append(test_acc)\n",
        "                  test_loss.append(test_lss)\n",
        "              print(\"iter: {}, train_loss: {}, train_accuracy:  {},   val_loss: {}, val_accuracy:  {}\".format((int(len(train_features) / BATCH_SIZE)*j+i+1),lss,acc,np.mean(test_loss),np.mean(test_accs)))\n",
        "              source_acc.append(np.mean(test_accs))\n",
        "              source_loss.append(np.mean(test_loss))\n",
        "              \n",
        "              domaintest_accs = []\n",
        "              domaintest_loss = []\n",
        "              for k in range(n_domain):\n",
        "                    start = k * BATCH_SIZE\n",
        "                    end = min(len(all_domaintest_input_ids), start + BATCH_SIZE)\n",
        "                    domaintest_lss,domaintest_acc = sess.run([class_loss,accuracy], feed_dict={input_ids: all_domaintest_input_ids[start:end], \n",
        "                                                       input_mask: all_domaintest_input_mask[start:end],\n",
        "                                                       segment_ids: all_domaintest_segment_ids[start:end],\n",
        "                                                       labels_true: all_domaintest_label_ids[start:end],\n",
        "                                                       train_flag: False})\n",
        "                    domaintest_accs.append(domaintest_acc)\n",
        "                    domaintest_loss.append(domaintest_lss) \n",
        "              print(\"iter:  {}, domaintest_loss   {},   domaintest_accuracy:   {}\".format((int(len(train_features) / BATCH_SIZE)*j+i+1),np.mean(domaintest_loss),np.mean(domaintest_accs)))\n",
        "              target_acc.append(np.mean(domaintest_accs))\n",
        "              target_loss.append(np.mean(domaintest_loss))"
      ],
      "execution_count": 0,
      "outputs": [
        {
          "output_type": "stream",
          "text": [
            "W0730 11:40:44.033113 139921088538496 deprecation_wrapper.py:119] From /content/BERToptimizer.py:30: The name tf.train.get_or_create_global_step is deprecated. Please use tf.compat.v1.train.get_or_create_global_step instead.\n",
            "\n",
            "W0730 11:40:44.045650 139921088538496 deprecation_wrapper.py:119] From /content/BERToptimizer.py:35: The name tf.train.polynomial_decay is deprecated. Please use tf.compat.v1.train.polynomial_decay instead.\n",
            "\n",
            "W0730 11:40:44.058302 139921088538496 deprecation.py:323] From /usr/local/lib/python3.6/dist-packages/tensorflow/python/keras/optimizer_v2/learning_rate_schedule.py:409: div (from tensorflow.python.ops.math_ops) is deprecated and will be removed in a future version.\n",
            "Instructions for updating:\n",
            "Deprecated in favor of operator or tf.math.divide.\n",
            "W0730 11:40:49.432756 139921088538496 deprecation_wrapper.py:119] From /content/BERToptimizer.py:120: The name tf.get_variable is deprecated. Please use tf.compat.v1.get_variable instead.\n",
            "\n",
            "/usr/local/lib/python3.6/dist-packages/tensorflow/python/ops/gradients_util.py:93: UserWarning: Converting sparse IndexedSlices to a dense Tensor of unknown shape. This may consume a large amount of memory.\n",
            "  \"Converting sparse IndexedSlices to a dense Tensor of unknown shape. \"\n"
          ],
          "name": "stderr"
        },
        {
          "output_type": "stream",
          "text": [
            "110184198\n",
            "iter: 150, train_loss: 0.8841254115104675, train_accuracy:  0.5833333134651184,   val_loss: 0.7693772912025452, val_accuracy:  0.7429220080375671\n",
            "iter:  150, domaintest_loss   0.9448233246803284,   domaintest_accuracy:   0.659588634967804\n",
            "iter: 300, train_loss: 0.795632541179657, train_accuracy:  0.7083333134651184,   val_loss: 0.6763768196105957, val_accuracy:  0.7457265257835388\n",
            "iter:  300, domaintest_loss   1.0175817012786865,   domaintest_accuracy:   0.4309562146663666\n",
            "iter: 450, train_loss: 0.9472665190696716, train_accuracy:  0.5833333134651184,   val_loss: 0.6440836787223816, val_accuracy:  0.7544070482254028\n",
            "iter:  450, domaintest_loss   0.988447904586792,   domaintest_accuracy:   0.48450857400894165\n",
            "iter: 600, train_loss: 0.6769124865531921, train_accuracy:  0.7083333134651184,   val_loss: 0.5864328742027283, val_accuracy:  0.7791132926940918\n",
            "iter:  600, domaintest_loss   1.0255783796310425,   domaintest_accuracy:   0.4342948794364929\n",
            "iter: 750, train_loss: 0.8618507385253906, train_accuracy:  0.5,   val_loss: 0.6209747195243835, val_accuracy:  0.7573450803756714\n",
            "iter:  750, domaintest_loss   1.150839924812317,   domaintest_accuracy:   0.2903312146663666\n",
            "iter: 900, train_loss: 0.6926988959312439, train_accuracy:  0.6666666865348816,   val_loss: 0.5582712292671204, val_accuracy:  0.779113233089447\n",
            "iter:  900, domaintest_loss   1.1289299726486206,   domaintest_accuracy:   0.3215812146663666\n",
            "iter: 1050, train_loss: 0.4779493808746338, train_accuracy:  0.8333333134651184,   val_loss: 0.6034682393074036, val_accuracy:  0.7593483328819275\n",
            "iter:  1050, domaintest_loss   1.2117764949798584,   domaintest_accuracy:   0.2280982881784439\n",
            "iter: 1200, train_loss: 0.5370399355888367, train_accuracy:  0.8333333134651184,   val_loss: 0.5857082605361938, val_accuracy:  0.7709668278694153\n",
            "iter:  1200, domaintest_loss   1.2024563550949097,   domaintest_accuracy:   0.23878204822540283\n",
            "iter: 1350, train_loss: 0.47638335824012756, train_accuracy:  0.8333333134651184,   val_loss: 0.5688906908035278, val_accuracy:  0.7745726108551025\n",
            "iter:  1350, domaintest_loss   1.2384414672851562,   domaintest_accuracy:   0.21928417682647705\n",
            "iter: 1500, train_loss: 0.4125095307826996, train_accuracy:  0.875,   val_loss: 0.5933623909950256, val_accuracy:  0.7614850401878357\n",
            "iter:  1500, domaintest_loss   1.2119828462600708,   domaintest_accuracy:   0.19991986453533173\n",
            "iter: 1650, train_loss: 0.538870096206665, train_accuracy:  0.75,   val_loss: 0.5130662322044373, val_accuracy:  0.7936698198318481\n",
            "iter:  1650, domaintest_loss   1.1493440866470337,   domaintest_accuracy:   0.22061964869499207\n",
            "iter: 1800, train_loss: 0.6385733485221863, train_accuracy:  0.625,   val_loss: 0.5579921007156372, val_accuracy:  0.7767093777656555\n",
            "iter:  1800, domaintest_loss   1.1992977857589722,   domaintest_accuracy:   0.19497862458229065\n",
            "iter: 1950, train_loss: 0.9400319457054138, train_accuracy:  0.5833333134651184,   val_loss: 0.5561388731002808, val_accuracy:  0.7791132926940918\n",
            "iter:  1950, domaintest_loss   1.1428941488265991,   domaintest_accuracy:   0.24318909645080566\n",
            "iter: 2100, train_loss: 0.33553221821784973, train_accuracy:  0.875,   val_loss: 0.5764077305793762, val_accuracy:  0.7715010643005371\n",
            "iter:  2100, domaintest_loss   1.1689245700836182,   domaintest_accuracy:   0.22796474397182465\n"
          ],
          "name": "stdout"
        },
        {
          "output_type": "error",
          "ename": "KeyboardInterrupt",
          "evalue": "ignored",
          "traceback": [
            "\u001b[0;31m---------------------------------------------------------------------------\u001b[0m",
            "\u001b[0;31mKeyboardInterrupt\u001b[0m                         Traceback (most recent call last)",
            "\u001b[0;32m<ipython-input-19-d946d99d257c>\u001b[0m in \u001b[0;36m<module>\u001b[0;34m()\u001b[0m\n\u001b[1;32m     44\u001b[0m                                           \u001b[0msegment_ids\u001b[0m\u001b[0;34m:\u001b[0m \u001b[0mnp\u001b[0m\u001b[0;34m.\u001b[0m\u001b[0mvstack\u001b[0m\u001b[0;34m(\u001b[0m\u001b[0;34m(\u001b[0m\u001b[0mall_tra_segment_ids\u001b[0m\u001b[0;34m[\u001b[0m\u001b[0mstart\u001b[0m\u001b[0;34m:\u001b[0m\u001b[0mend\u001b[0m\u001b[0;34m]\u001b[0m\u001b[0;34m,\u001b[0m\u001b[0mall_domaintrain_segment_ids\u001b[0m\u001b[0;34m[\u001b[0m\u001b[0mstart\u001b[0m\u001b[0;34m:\u001b[0m\u001b[0mend\u001b[0m\u001b[0;34m]\u001b[0m\u001b[0;34m)\u001b[0m\u001b[0;34m)\u001b[0m\u001b[0;34m,\u001b[0m\u001b[0;34m\u001b[0m\u001b[0;34m\u001b[0m\u001b[0m\n\u001b[1;32m     45\u001b[0m                                           \u001b[0mlabels_true\u001b[0m\u001b[0;34m:\u001b[0m \u001b[0mall_tra_label_ids\u001b[0m\u001b[0;34m[\u001b[0m\u001b[0mstart\u001b[0m\u001b[0;34m:\u001b[0m\u001b[0mend\u001b[0m\u001b[0;34m]\u001b[0m\u001b[0;34m,\u001b[0m\u001b[0;34m\u001b[0m\u001b[0;34m\u001b[0m\u001b[0m\n\u001b[0;32m---> 46\u001b[0;31m                                           train_flag: True})\n\u001b[0m\u001b[1;32m     47\u001b[0m           \u001b[0mtrain_class_loss\u001b[0m\u001b[0;34m.\u001b[0m\u001b[0mappend\u001b[0m\u001b[0;34m(\u001b[0m\u001b[0mlss\u001b[0m\u001b[0;34m)\u001b[0m\u001b[0;34m\u001b[0m\u001b[0;34m\u001b[0m\u001b[0m\n\u001b[1;32m     48\u001b[0m           \u001b[0mtrain_adv_loss\u001b[0m\u001b[0;34m.\u001b[0m\u001b[0mappend\u001b[0m\u001b[0;34m(\u001b[0m\u001b[0mdlss\u001b[0m\u001b[0;34m)\u001b[0m\u001b[0;34m\u001b[0m\u001b[0;34m\u001b[0m\u001b[0m\n",
            "\u001b[0;32m/usr/local/lib/python3.6/dist-packages/tensorflow/python/client/session.py\u001b[0m in \u001b[0;36mrun\u001b[0;34m(self, fetches, feed_dict, options, run_metadata)\u001b[0m\n\u001b[1;32m    948\u001b[0m     \u001b[0;32mtry\u001b[0m\u001b[0;34m:\u001b[0m\u001b[0;34m\u001b[0m\u001b[0;34m\u001b[0m\u001b[0m\n\u001b[1;32m    949\u001b[0m       result = self._run(None, fetches, feed_dict, options_ptr,\n\u001b[0;32m--> 950\u001b[0;31m                          run_metadata_ptr)\n\u001b[0m\u001b[1;32m    951\u001b[0m       \u001b[0;32mif\u001b[0m \u001b[0mrun_metadata\u001b[0m\u001b[0;34m:\u001b[0m\u001b[0;34m\u001b[0m\u001b[0;34m\u001b[0m\u001b[0m\n\u001b[1;32m    952\u001b[0m         \u001b[0mproto_data\u001b[0m \u001b[0;34m=\u001b[0m \u001b[0mtf_session\u001b[0m\u001b[0;34m.\u001b[0m\u001b[0mTF_GetBuffer\u001b[0m\u001b[0;34m(\u001b[0m\u001b[0mrun_metadata_ptr\u001b[0m\u001b[0;34m)\u001b[0m\u001b[0;34m\u001b[0m\u001b[0;34m\u001b[0m\u001b[0m\n",
            "\u001b[0;32m/usr/local/lib/python3.6/dist-packages/tensorflow/python/client/session.py\u001b[0m in \u001b[0;36m_run\u001b[0;34m(self, handle, fetches, feed_dict, options, run_metadata)\u001b[0m\n\u001b[1;32m   1171\u001b[0m     \u001b[0;32mif\u001b[0m \u001b[0mfinal_fetches\u001b[0m \u001b[0;32mor\u001b[0m \u001b[0mfinal_targets\u001b[0m \u001b[0;32mor\u001b[0m \u001b[0;34m(\u001b[0m\u001b[0mhandle\u001b[0m \u001b[0;32mand\u001b[0m \u001b[0mfeed_dict_tensor\u001b[0m\u001b[0;34m)\u001b[0m\u001b[0;34m:\u001b[0m\u001b[0;34m\u001b[0m\u001b[0;34m\u001b[0m\u001b[0m\n\u001b[1;32m   1172\u001b[0m       results = self._do_run(handle, final_targets, final_fetches,\n\u001b[0;32m-> 1173\u001b[0;31m                              feed_dict_tensor, options, run_metadata)\n\u001b[0m\u001b[1;32m   1174\u001b[0m     \u001b[0;32melse\u001b[0m\u001b[0;34m:\u001b[0m\u001b[0;34m\u001b[0m\u001b[0;34m\u001b[0m\u001b[0m\n\u001b[1;32m   1175\u001b[0m       \u001b[0mresults\u001b[0m \u001b[0;34m=\u001b[0m \u001b[0;34m[\u001b[0m\u001b[0;34m]\u001b[0m\u001b[0;34m\u001b[0m\u001b[0;34m\u001b[0m\u001b[0m\n",
            "\u001b[0;32m/usr/local/lib/python3.6/dist-packages/tensorflow/python/client/session.py\u001b[0m in \u001b[0;36m_do_run\u001b[0;34m(self, handle, target_list, fetch_list, feed_dict, options, run_metadata)\u001b[0m\n\u001b[1;32m   1348\u001b[0m     \u001b[0;32mif\u001b[0m \u001b[0mhandle\u001b[0m \u001b[0;32mis\u001b[0m \u001b[0;32mNone\u001b[0m\u001b[0;34m:\u001b[0m\u001b[0;34m\u001b[0m\u001b[0;34m\u001b[0m\u001b[0m\n\u001b[1;32m   1349\u001b[0m       return self._do_call(_run_fn, feeds, fetches, targets, options,\n\u001b[0;32m-> 1350\u001b[0;31m                            run_metadata)\n\u001b[0m\u001b[1;32m   1351\u001b[0m     \u001b[0;32melse\u001b[0m\u001b[0;34m:\u001b[0m\u001b[0;34m\u001b[0m\u001b[0;34m\u001b[0m\u001b[0m\n\u001b[1;32m   1352\u001b[0m       \u001b[0;32mreturn\u001b[0m \u001b[0mself\u001b[0m\u001b[0;34m.\u001b[0m\u001b[0m_do_call\u001b[0m\u001b[0;34m(\u001b[0m\u001b[0m_prun_fn\u001b[0m\u001b[0;34m,\u001b[0m \u001b[0mhandle\u001b[0m\u001b[0;34m,\u001b[0m \u001b[0mfeeds\u001b[0m\u001b[0;34m,\u001b[0m \u001b[0mfetches\u001b[0m\u001b[0;34m)\u001b[0m\u001b[0;34m\u001b[0m\u001b[0;34m\u001b[0m\u001b[0m\n",
            "\u001b[0;32m/usr/local/lib/python3.6/dist-packages/tensorflow/python/client/session.py\u001b[0m in \u001b[0;36m_do_call\u001b[0;34m(self, fn, *args)\u001b[0m\n\u001b[1;32m   1354\u001b[0m   \u001b[0;32mdef\u001b[0m \u001b[0m_do_call\u001b[0m\u001b[0;34m(\u001b[0m\u001b[0mself\u001b[0m\u001b[0;34m,\u001b[0m \u001b[0mfn\u001b[0m\u001b[0;34m,\u001b[0m \u001b[0;34m*\u001b[0m\u001b[0margs\u001b[0m\u001b[0;34m)\u001b[0m\u001b[0;34m:\u001b[0m\u001b[0;34m\u001b[0m\u001b[0;34m\u001b[0m\u001b[0m\n\u001b[1;32m   1355\u001b[0m     \u001b[0;32mtry\u001b[0m\u001b[0;34m:\u001b[0m\u001b[0;34m\u001b[0m\u001b[0;34m\u001b[0m\u001b[0m\n\u001b[0;32m-> 1356\u001b[0;31m       \u001b[0;32mreturn\u001b[0m \u001b[0mfn\u001b[0m\u001b[0;34m(\u001b[0m\u001b[0;34m*\u001b[0m\u001b[0margs\u001b[0m\u001b[0;34m)\u001b[0m\u001b[0;34m\u001b[0m\u001b[0;34m\u001b[0m\u001b[0m\n\u001b[0m\u001b[1;32m   1357\u001b[0m     \u001b[0;32mexcept\u001b[0m \u001b[0merrors\u001b[0m\u001b[0;34m.\u001b[0m\u001b[0mOpError\u001b[0m \u001b[0;32mas\u001b[0m \u001b[0me\u001b[0m\u001b[0;34m:\u001b[0m\u001b[0;34m\u001b[0m\u001b[0;34m\u001b[0m\u001b[0m\n\u001b[1;32m   1358\u001b[0m       \u001b[0mmessage\u001b[0m \u001b[0;34m=\u001b[0m \u001b[0mcompat\u001b[0m\u001b[0;34m.\u001b[0m\u001b[0mas_text\u001b[0m\u001b[0;34m(\u001b[0m\u001b[0me\u001b[0m\u001b[0;34m.\u001b[0m\u001b[0mmessage\u001b[0m\u001b[0;34m)\u001b[0m\u001b[0;34m\u001b[0m\u001b[0;34m\u001b[0m\u001b[0m\n",
            "\u001b[0;32m/usr/local/lib/python3.6/dist-packages/tensorflow/python/client/session.py\u001b[0m in \u001b[0;36m_run_fn\u001b[0;34m(feed_dict, fetch_list, target_list, options, run_metadata)\u001b[0m\n\u001b[1;32m   1339\u001b[0m       \u001b[0mself\u001b[0m\u001b[0;34m.\u001b[0m\u001b[0m_extend_graph\u001b[0m\u001b[0;34m(\u001b[0m\u001b[0;34m)\u001b[0m\u001b[0;34m\u001b[0m\u001b[0;34m\u001b[0m\u001b[0m\n\u001b[1;32m   1340\u001b[0m       return self._call_tf_sessionrun(\n\u001b[0;32m-> 1341\u001b[0;31m           options, feed_dict, fetch_list, target_list, run_metadata)\n\u001b[0m\u001b[1;32m   1342\u001b[0m \u001b[0;34m\u001b[0m\u001b[0m\n\u001b[1;32m   1343\u001b[0m     \u001b[0;32mdef\u001b[0m \u001b[0m_prun_fn\u001b[0m\u001b[0;34m(\u001b[0m\u001b[0mhandle\u001b[0m\u001b[0;34m,\u001b[0m \u001b[0mfeed_dict\u001b[0m\u001b[0;34m,\u001b[0m \u001b[0mfetch_list\u001b[0m\u001b[0;34m)\u001b[0m\u001b[0;34m:\u001b[0m\u001b[0;34m\u001b[0m\u001b[0;34m\u001b[0m\u001b[0m\n",
            "\u001b[0;32m/usr/local/lib/python3.6/dist-packages/tensorflow/python/client/session.py\u001b[0m in \u001b[0;36m_call_tf_sessionrun\u001b[0;34m(self, options, feed_dict, fetch_list, target_list, run_metadata)\u001b[0m\n\u001b[1;32m   1427\u001b[0m     return tf_session.TF_SessionRun_wrapper(\n\u001b[1;32m   1428\u001b[0m         \u001b[0mself\u001b[0m\u001b[0;34m.\u001b[0m\u001b[0m_session\u001b[0m\u001b[0;34m,\u001b[0m \u001b[0moptions\u001b[0m\u001b[0;34m,\u001b[0m \u001b[0mfeed_dict\u001b[0m\u001b[0;34m,\u001b[0m \u001b[0mfetch_list\u001b[0m\u001b[0;34m,\u001b[0m \u001b[0mtarget_list\u001b[0m\u001b[0;34m,\u001b[0m\u001b[0;34m\u001b[0m\u001b[0;34m\u001b[0m\u001b[0m\n\u001b[0;32m-> 1429\u001b[0;31m         run_metadata)\n\u001b[0m\u001b[1;32m   1430\u001b[0m \u001b[0;34m\u001b[0m\u001b[0m\n\u001b[1;32m   1431\u001b[0m   \u001b[0;32mdef\u001b[0m \u001b[0m_call_tf_sessionprun\u001b[0m\u001b[0;34m(\u001b[0m\u001b[0mself\u001b[0m\u001b[0;34m,\u001b[0m \u001b[0mhandle\u001b[0m\u001b[0;34m,\u001b[0m \u001b[0mfeed_dict\u001b[0m\u001b[0;34m,\u001b[0m \u001b[0mfetch_list\u001b[0m\u001b[0;34m)\u001b[0m\u001b[0;34m:\u001b[0m\u001b[0;34m\u001b[0m\u001b[0;34m\u001b[0m\u001b[0m\n",
            "\u001b[0;31mKeyboardInterrupt\u001b[0m: "
          ]
        }
      ]
    },
    {
      "cell_type": "code",
      "metadata": {
        "id": "cNuLNrZQJTYl",
        "colab_type": "code",
        "colab": {}
      },
      "source": [
        "np.save(\"test_accs.npy\",source_acc)\n",
        "np.save(\"test_loss.npy\",source_loss)\n",
        "np.save(\"target_accs.npy\",target_acc)\n",
        "np.save(\"target_loss.npy\",target_loss)"
      ],
      "execution_count": 0,
      "outputs": []
    },
    {
      "cell_type": "code",
      "metadata": {
        "id": "EXvPXpKujKdg",
        "colab_type": "code",
        "colab": {}
      },
      "source": [
        "import matplotlib.pyplot as plt\n",
        "def plotAndSave(target,source,name=\"accuracy\"):\n",
        "    # Visualizes loss or accuracy between target and source datasets\n",
        "\n",
        "    # Create count of the number of epochs\n",
        "    epoch_count = range(1, len(source) + 1)\n",
        "\n",
        "    # Visualize loss history\n",
        "    plt.plot(epoch_count, source, 'r--')\n",
        "    plt.plot(epoch_count, target, 'b-')\n",
        "    plt.legend(['Classification ' + name, 'Adversarial ' + name])\n",
        "    plt.xlabel('Epoch')\n",
        "    plt.ylabel(name)\n",
        "    plt.show\n"
      ],
      "execution_count": 0,
      "outputs": []
    },
    {
      "cell_type": "code",
      "metadata": {
        "id": "qNkNfsLdbmLD",
        "colab_type": "code",
        "outputId": "b10eb30a-b947-4c99-97ae-ac6ac6ed3f8c",
        "colab": {
          "base_uri": "https://localhost:8080/",
          "height": 283
        }
      },
      "source": [
        "plotAndSave(target_acc,source_acc,'accuracy')"
      ],
      "execution_count": 0,
      "outputs": [
        {
          "output_type": "display_data",
          "data": {
            "image/png": "[encoded data removed]",
            "text/plain": [
              "<Figure size 432x288 with 1 Axes>"
            ]
          },
          "metadata": {
            "tags": []
          }
        }
      ]
    },
    {
      "cell_type": "code",
      "metadata": {
        "id": "QDaT9zEmZP7U",
        "colab_type": "code",
        "outputId": "0bf41d67-34a6-4655-ee2d-d99edae5e1ab",
        "colab": {
          "base_uri": "https://localhost:8080/",
          "height": 283
        }
      },
      "source": [
        "plotAndSave(target_loss,source_loss,'loss')"
      ],
      "execution_count": 0,
      "outputs": [
        {
          "output_type": "display_data",
          "data": {
            "image/png": "[encoded data removed]",
            "text/plain": [
              "<Figure size 432x288 with 1 Axes>"
            ]
          },
          "metadata": {
            "tags": []
          }
        }
      ]
    },
    {
      "cell_type": "code",
      "metadata": {
        "id": "gS5SVhbFVBvX",
        "colab_type": "code",
        "outputId": "9159ec98-1bea-42d7-c0de-0d665a20baec",
        "colab": {
          "base_uri": "https://localhost:8080/",
          "height": 283
        }
      },
      "source": [
        "plotAndSave(np.array(train_adv_loss)*0.6,train_class_loss,'loss')"
      ],
      "execution_count": 0,
      "outputs": [
        {
          "output_type": "display_data",
          "data": {
            "image/png": "[encoded data removed]",
            "text/plain": [
              "<Figure size 432x288 with 1 Axes>"
            ]
          },
          "metadata": {
            "tags": []
          }
        }
      ]
    },
    {
      "cell_type": "code",
      "metadata": {
        "id": "kFdEgPiUQ3_A",
        "colab_type": "code",
        "colab": {}
      },
      "source": [
        ""
      ],
      "execution_count": 0,
      "outputs": []
    }
  ]
}